{
  "cells": [
    {
      "cell_type": "markdown",
      "metadata": {
        "id": "BKCrcukdE8Bb"
      },
      "source": [
        "# Assignment: Classification\n",
        "\n",
        "Classification refers to categorizing the given data into classes. For example,\n",
        "- Given an image of hand-written character, identifying the character (multi-class classification)\n",
        "- Given an image, annotating it with all the objects present in the image (multi-label classification)\n",
        "- Classifying an email as spam or non-spam (binary classification)\n",
        "- Classifying a tumor as benign or malignant and so on\n",
        "\n",
        "In this assignment, we will be building a classifier to classify emails as spam or non-spam. We will be using the Kaggle dataset [Spam or Not Spam Dataset](https://www.kaggle.com/datasets/ozlerhakan/spam-or-not-spam-dataset?resource=download) for this task. \n",
        "\n",
        "**Note**: You cannot load any libraries other than the mentioned ones.\n",
        "\n",
        "\n"
      ]
    },
    {
      "cell_type": "markdown",
      "metadata": {
        "id": "Irp6f7_2crfu"
      },
      "source": [
        "### Data pre-processing\n",
        "The first step in every machine learning algorithm is to process the raw data in some meaningful representations. We will be using the [Bag-of-Words](https://towardsdatascience.com/a-simple-explanation-of-the-bag-of-words-model-b88fc4f4971) representation to process the text. It comprises of following steps:\n",
        "\n",
        "- Process emails line-by-line to extract all the words.\n",
        "- Replace extracted words by their stem (root) word. This is known as stemming and lematization.\n",
        "- Remove stop words like and, or, is, am, and so on.\n",
        "- Assign a unique index to each word. This forms the vocabulary.\n",
        "- Represent each email as a binary vector of length equal to the size of the vocabulary such that the $i^{th}$ element of the vector is 1 iff the $i^th$ word is present in the email.\n",
        "\n",
        "Here we provide you with the function signature along with the expected functionality. You are expected to complete them accordingly. "
      ]
    },
    {
      "cell_type": "code",
      "execution_count": 6,
      "metadata": {},
      "outputs": [
        {
          "name": "stderr",
          "output_type": "stream",
          "text": [
            "[nltk_data] Downloading package stopwords to\n",
            "[nltk_data]     /home/salazar/nltk_data...\n",
            "[nltk_data]   Unzipping corpora/stopwords.zip.\n"
          ]
        },
        {
          "data": {
            "text/plain": [
              "True"
            ]
          },
          "execution_count": 6,
          "metadata": {},
          "output_type": "execute_result"
        }
      ],
      "source": [
        "import nltk\n",
        "nltk.download('stopwords')"
      ]
    },
    {
      "cell_type": "code",
      "execution_count": 23,
      "metadata": {
        "id": "wIlTOyyPn-mN"
      },
      "outputs": [],
      "source": [
        "import numpy as np\n",
        "from nltk.stem import PorterStemmer\n",
        "from nltk.corpus import stopwords\n",
        "\n",
        "vocab = []\n",
        "\n",
        "# takes an email as an argument\n",
        "# read email line-by-line and extract all the words\n",
        "# return list of extracted words\n",
        "def read_email(inp):\n",
        "  inp = inp.replace('_','')\n",
        "  inp = inp.strip().lower()\n",
        "  return inp.split()\n",
        "  \n",
        "# takes a list of words as an argument\n",
        "# replace each word by their stem word\n",
        "# return list of stem words\n",
        "def stemming(lisword):\n",
        "  ps = PorterStemmer()\n",
        "  return [ps.stem(word) for word in lisword]\n",
        "\n",
        "# takes a list of stem-words as an argument\n",
        "# remove stop words\n",
        "# return list of stem words after removing stop words\n",
        "def remove_stop_words(lisstem):\n",
        "  swords = set(stopwords.words('english'))\n",
        "  return [word for word in lisstem if word not in swords]\n",
        "\n",
        "# takes a list of stem-words as an argument\n",
        "# add new words to the vocabulary and assign a unique index to them\n",
        "# returns new vocabulary\n",
        "def build_vocabulary(inp, vocab):\n",
        "  for word in inp:\n",
        "    if word not in vocab:\n",
        "      vocab.append(word)\n",
        "\n",
        "# takes a list of stem-words and vocabulary as an argument\n",
        "# returns bow representation\n",
        "def get_bow(stemwords, vocab):\n",
        "  out = []\n",
        "  for word in vocab:\n",
        "    if word in stemwords:\n",
        "      out.append(1)\n",
        "    else:\n",
        "      out.append(0)\n",
        "  return out\n",
        "\n",
        "def text_to_bow(inp, vocab):\n",
        "  d = inp.split(',')\n",
        "  em = read_email(d[0])\n",
        "  em = stemming(em)\n",
        "  em = remove_stop_words(em)\n",
        "  build_vocabulary(em, vocab)\n",
        "  bow = get_bow(em, vocab)\n",
        "  bow = np.array(bow)\n",
        "  return (bow,int(d[1].strip()))\n",
        "\n",
        "# read the entire dataset\n",
        "# convert emails to bow and maintain their labels\n",
        "# call function text_to_bow()\n",
        "def read_data(vocab):\n",
        "  f = open('spam_or_not_spam.csv', 'r')\n",
        "  data = f.readlines()\n",
        "  data = data[1:]\n",
        "  data = [text_to_bow(dp, vocab) for dp in data]\n",
        "  x = len(data[-1][0])\n",
        "  data = [(np.pad(dp[0],(0,x-len(dp[0])),'constant'),dp[1]) for dp in data]\n",
        "  return data\n",
        "\n",
        "data = read_data(vocab)"
      ]
    },
    {
      "cell_type": "markdown",
      "metadata": {
        "id": "d0cDiGt6nkPY"
      },
      "source": [
        "### Data Visualization\n",
        "Let's understand the data distribution\n",
        "- Visualize the frequency of word-occurence in all the emails(spam + non-spam)\n",
        "- Visualize the freuency of word-occurence for spam and non-spam emails separately"
      ]
    },
    {
      "cell_type": "code",
      "execution_count": 35,
      "metadata": {
        "id": "4vJLcTxDLZsh"
      },
      "outputs": [
        {
          "name": "stdout",
          "output_type": "stream",
          "text": [
            "total 25429 words\n"
          ]
        },
        {
          "data": {
            "image/png": "[encoded data removed]",
            "text/plain": [
              "<Figure size 1440x360 with 1 Axes>"
            ]
          },
          "metadata": {
            "needs_background": "light"
          },
          "output_type": "display_data"
        },
        {
          "data": {
            "image/png": "[encoded data removed]",
            "text/plain": [
              "<Figure size 1440x360 with 1 Axes>"
            ]
          },
          "metadata": {
            "needs_background": "light"
          },
          "output_type": "display_data"
        },
        {
          "data": {
            "image/png": "[encoded data removed]",
            "text/plain": [
              "<Figure size 1440x360 with 1 Axes>"
            ]
          },
          "metadata": {
            "needs_background": "light"
          },
          "output_type": "display_data"
        }
      ],
      "source": [
        "import matplotlib.pyplot as plt\n",
        "import numpy as np\n",
        "\n",
        "# visuallze data distribution\n",
        "def data_vis(data):\n",
        "  all = np.zeros(len(data[0][0]))\n",
        "  spam = np.zeros(len(data[0][0]))\n",
        "  notspam = np.zeros(len(data[0][0]))\n",
        "\n",
        "  for dp in data:\n",
        "    if dp[1] == 0:\n",
        "      notspam = np.add(notspam, dp[0])\n",
        "      all = np.add(all, dp[0])\n",
        "    else:\n",
        "      spam = np.add(spam, dp[0])\n",
        "      all = np.add(all, dp[0])\n",
        "  \n",
        "  print (\"total\" , len(all), \"words\")\n",
        "  plt.scatter(range(len(all)), all, color='blue')\n",
        "  plt.xlabel('Word Index')\n",
        "  plt.ylabel('Frequency')\n",
        "  plt.show()\n",
        "  plt.scatter(range(len(notspam)), notspam, color='green')\n",
        "  plt.xlabel('Word Index')\n",
        "  plt.ylabel('Frequency')\n",
        "  plt.show()\n",
        "  plt.scatter(range(len(spam)), spam, color='red')\n",
        "  plt.xlabel('Word Index')\n",
        "  plt.ylabel('Frequency')\n",
        "  plt.show()\n",
        "  return\n",
        "\n",
        "data_vis(data)"
      ]
    },
    {
      "cell_type": "markdown",
      "metadata": {
        "id": "LPq-3nTzGcdX"
      },
      "source": [
        "### Learn a Classifier\n",
        "Split the dataset randomly in the ratio 80:20 as the training and test dataset. Use only training dataset to learn the classifier. No test data should be used during training. Test data will only be used during evaluation.\n",
        "\n",
        "Now let us try to use ML algorithms to classify emails as spam or non-spam. You are supposed to implement [SVM](https://scikit-learn.org/stable/modules/svm.html) and [K-Nearest Neighbour](https://scikit-learn.org/stable/modules/generated/sklearn.neighbors.KNeighborsClassifier.html) algorithm available in scikit-learn using the same training dataset for both."
      ]
    },
    {
      "cell_type": "code",
      "execution_count": 36,
      "metadata": {
        "id": "IMpuaPCKHxwh"
      },
      "outputs": [],
      "source": [
        "from sklearn.neighbors import KNeighborsClassifier\n",
        "from sklearn import svm\n",
        "import numpy as np\n",
        "\n",
        "# split dataset\n",
        "def split(data):\n",
        "  np.random.shuffle(data)\n",
        "  train = data[:int(len(data)*0.8)]\n",
        "  test = data[int(len(data)*0.8):]\n",
        "  return train, test\n",
        "\n",
        "# learn a SVM model\n",
        "# use the model to make prediction\n",
        "# return the model predictions on train and test dataset\n",
        "def svm_classifier(train_data, test_data):\n",
        "  clf = svm.SVC(gamma='scale')\n",
        "  clf.fit([x[0] for x in train_data], [x[1] for x in train_data])\n",
        "  predict_labels0 = clf.predict([x[0] for x in train_data])\n",
        "  predict_labels = clf.predict([x[0] for x in test_data])\n",
        "  return predict_labels0, predict_labels\n",
        "\n",
        "# implement k-NN algorithm\n",
        "# use the model to make prediction\n",
        "# return the model predictions on train and test dataset\n",
        "def knn_classifier(train_data, test_data):\n",
        "  clf = KNeighborsClassifier(n_neighbors=3)\n",
        "  clf.fit([x[0] for x in train_data], [x[1] for x in train_data])\n",
        "  predict_labels0 = clf.predict([x[0] for x in train_data])\n",
        "  predict_labels = clf.predict([x[0] for x in test_data])\n",
        "  return predict_labels0, predict_labels\n",
        "\n",
        "train_data, test_data = split(data)\n",
        "svm_train_predictions, svm_test_predictions = svm_classifier(train_data, test_data)\n",
        "knn_train_predictions, knn_test_predictions = knn_classifier(train_data, test_data)"
      ]
    },
    {
      "cell_type": "markdown",
      "metadata": {
        "id": "SlCwYvluHqQz"
      },
      "source": [
        "### Model Evaluation\n",
        "Compare the SVM and k-NN model using metrics\n",
        "- Accuracy\n",
        "- [AUC score](https://scikit-learn.org/stable/modules/generated/sklearn.metrics.auc.html)\n"
      ]
    },
    {
      "cell_type": "code",
      "execution_count": 40,
      "metadata": {
        "id": "X3KmcTpqKbGI"
      },
      "outputs": [
        {
          "name": "stdout",
          "output_type": "stream",
          "text": [
            "SVM train accuracy:  0.9941666666666666\n",
            "SVM test accuracy:  0.9733333333333334\n",
            "SVM test AUC score:  0.9844054580896686\n",
            "KNN train accuracy:  0.8508333333333333\n",
            "KNN test accuracy:  0.7366666666666667\n",
            "KNN test AUC score:  0.6826099453866055\n"
          ]
        }
      ],
      "source": [
        "from sklearn import metrics\n",
        "\n",
        "# compute accuracy \n",
        "def compute_accuracy(true_labels, predicted_labels):\n",
        "  return metrics.accuracy_score(true_labels, predicted_labels)\n",
        "\n",
        "# compute AUC score \n",
        "def compute_auc(true_labels, predicted_labels):\n",
        "  return metrics.roc_auc_score(true_labels, predicted_labels)\n",
        "\n",
        "# write code to print train and test accuracy and AUC score of SVM and k-NN classifier\n",
        "print (\"SVM train accuracy: \", compute_accuracy(svm_train_predictions, [x[1] for x in train_data]))\n",
        "print (\"SVM test accuracy: \", compute_accuracy(svm_test_predictions, [x[1] for x in test_data]))\n",
        "print (\"SVM test AUC score: \", compute_auc(svm_test_predictions, [x[1] for x in test_data]))\n",
        "print (\"KNN train accuracy: \", compute_accuracy(knn_train_predictions, [x[1] for x in train_data]))\n",
        "print (\"KNN test accuracy: \", compute_accuracy(knn_test_predictions, [x[1] for x in test_data]))\n",
        "print (\"KNN test AUC score: \", compute_auc(knn_test_predictions, [x[1] for x in test_data]))"
      ]
    }
  ],
  "metadata": {
    "colab": {
      "collapsed_sections": [],
      "name": "python-assignment.ipynb",
      "provenance": []
    },
    "kernelspec": {
      "display_name": "Python 3",
      "name": "python3"
    },
    "language_info": {
      "codemirror_mode": {
        "name": "ipython",
        "version": 3
      },
      "file_extension": ".py",
      "mimetype": "text/x-python",
      "name": "python",
      "nbconvert_exporter": "python",
      "pygments_lexer": "ipython3",
      "version": "3.10.4"
    }
  },
  "nbformat": 4,
  "nbformat_minor": 0
}
